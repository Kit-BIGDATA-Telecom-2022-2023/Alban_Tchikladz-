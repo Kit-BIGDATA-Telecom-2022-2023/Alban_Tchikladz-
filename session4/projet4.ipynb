{
 "cells": [
  {
   "cell_type": "markdown",
   "metadata": {},
   "source": [
    "# Projet maison n° 4"
   ]
  },
  {
   "cell_type": "code",
   "execution_count": 9,
   "metadata": {},
   "outputs": [],
   "source": [
    "# imports\n",
    "import requests\n",
    "from bs4 import BeautifulSoup"
   ]
  },
  {
   "cell_type": "markdown",
   "metadata": {},
   "source": [
    "**Partie A**\n",
    "\n",
    "Ecrire une fonction `get_prices_from_url()` qui extrait des informations à partir des 2 pages ci-dessous.\n",
    "\n",
    "```python\n",
    "URL_PAGE2 = \"https://kim.fspot.org/cours/page2.html\"\n",
    "URL_PAGE3 = \"https://kim.fspot.org/cours/page3.html\"\n",
    "```\n",
    "\n",
    "Avec `URL_PAGE2`, la fonction doit retourner :\n",
    "\n",
    "```json\n",
    "{'Personal': {'price': '$5', 'storage': '1GB', 'databases': 1},\n",
    " 'Small Business': {'price': '$25', 'storage': '10GB', 'databases': 5},\n",
    " 'Enterprise': {'price': '$45', 'storage': '100GB', 'databases': 25}}\n",
    "```"
   ]
  },
  {
   "cell_type": "code",
   "execution_count": 38,
   "metadata": {},
   "outputs": [
    {
     "name": "stdout",
     "output_type": "stream",
     "text": [
      "{'Personal': {'price': '$5', 'storage': '1GB', 'databases': 1}, 'Small Business': {'price': '$25', 'storage': '10GB', 'databases': 5}, 'Enterprise': {'price': '$45', 'storage': '100GB', 'databases': 25}}\n",
      "{'Personal': {'price': '$5', 'storage': '1GB', 'databases': 1}, 'Small Business': {'price': '$25', 'storage': '10GB', 'databases': 5}, 'Enterprise': {'price': '$45', 'storage': '100GB', 'databases': 25}, 'Privilege': {'price': '$99', 'storage': '1TB', 'databases': 100}}\n"
     ]
    }
   ],
   "source": [
    "import re\n",
    "\n",
    "# partie A\n",
    "URL_PAGE2 = \"https://kim.fspot.org/cours/page2.html\"\n",
    "URL_PAGE3 = \"https://kim.fspot.org/cours/page3.html\"\n",
    "\n",
    "def get_prices_from_url(url):  \n",
    "    r = requests.get(url)\n",
    "    html = r.content\n",
    "    soup = BeautifulSoup(html)\n",
    "    \n",
    "    prices = {}\n",
    "    offers = soup.find_all('div', {'class': \"pricing-table\"})\n",
    "    \n",
    "    for elem in offers:\n",
    "        #print(elem)\n",
    "        offer_elem = {}\n",
    "        offer_elem[\"price\"] = elem.find_all('span',{'class' : 'pricing-table-price'})[0].text[-14:-11].replace(\" \",\"\")\n",
    "        offer_elem[\"storage\"] = elem.find_all('li')[3].text.split(\" \")[0]\n",
    "        offer_elem[\"databases\"] = int(elem.find_all('li')[4].text.split(\" \")[0])\n",
    "        prices[elem.find(\"h2\").text] = offer_elem\n",
    "    \n",
    "    return prices\n",
    "\n",
    "print(get_prices_from_url(URL_PAGE2))\n",
    "print(get_prices_from_url(URL_PAGE3))"
   ]
  },
  {
   "cell_type": "markdown",
   "metadata": {},
   "source": [
    "**Partie B**\n",
    "\n",
    "*L'abus d'alcool est dangereux pour la santé, à consommer avec modération.*\n",
    "\n",
    "1) Ecrire une fonction `extract_beer_infos()` qui extrait des informations sur une bière du site de bières *beowulf*.\n",
    "\n",
    "Exemple d'URL: https://www.beerwulf.com/fr-fr/p/bieres/cuvee-des-trolls.33 \n",
    "\n",
    "La fonction doit retourner :\n",
    "```json\n",
    "{'Nom': 'Cuvée des Trolls',\n",
    " 'Style': 'Bière Blonde',\n",
    " 'Contenu': 25,\n",
    " 'Degré d’alcool': 7.0,\n",
    " 'Origine': 'Belgique',\n",
    " 'Brasseur': 'Brasserie Dubuisson Freres'}\n",
    "```\n",
    "\n",
    "2) L'URL ci-après retourne un JSON avec une liste de bières :\n",
    "\n",
    "```python\n",
    "URL_BEERLIST_FRANCE = \"https://www.beerwulf.com/fr-FR/api/search/searchProducts?country=France&container=Bouteille\"\n",
    "```\n",
    "\n",
    "Ecrire une fonction `extract_beer_list_infos(url)` qui prend en argument cet URL et retourne les informations sur une liste de bières du site *beowulf*.\n",
    "\n",
    "Cette fonction doit retourner la liste des informations obtenues par la fonction précédemment définie `extract_beer_infos()`.\n",
    "\n",
    "Exemple de retour :\n",
    "\n",
    "```json\n",
    "[{'Nom':'Desperados','Style':'Lager','Contenu':33,'Degré d’alcool':5.9,'Origine':'France','Brasseur':'Desperados'},\n",
    "{'Nom':'La Lager Sans Gluten de Vézelay','Style':'Lager','Contenu':25,'Degré d’alcool':4.0,'Origine':'France','Brasseur':'Brasserie de Vézelay'},\n",
    "{'Nom':'Mélusine Bio','Style':'Pale Ale','Contenu': 33,'Degré d’alcool': 5.0,'Origine':'France','Brasseur':'Mélusine'},\n",
    "{'Nom':'La Parisienne Le Titi Parisien','Style':'IPA','Contenu':33,'Degré d’alcool':5.5,'Origine':'France','Brasseur': 'Brasserie la Parisienne'},\n",
    "{'Nom':'Brasserie De Sutter Brin de Folie','Style':'Bière Blonde','Contenu': 33,'Degré d’alcool':6.5,'Origine':'France','Brasseur':'Brasserie de Sutter'}]\n",
    "```\n",
    "\n",
    "**Facultatif**\n",
    "\n",
    "Chercher comment optimiser cette fonction en utilisant `multiprocessing.Pool()` pour paralléliser les accès web."
   ]
  },
  {
   "cell_type": "code",
   "execution_count": 59,
   "metadata": {},
   "outputs": [
    {
     "name": "stdout",
     "output_type": "stream",
     "text": [
      "{'nom': \"La Chouffe Blonde D'ardenne - Fût 2L The SUB\", 'Style': 'Bière Blonde', 'Contenu': 200, 'Degré d’alcool': 8.0, 'Origine': 'Belgique', 'Brasseur': \"Brasserie D'Achouffe\"}\n"
     ]
    }
   ],
   "source": [
    "# partie B-1\n",
    "url = \"https://www.beerwulf.com/fr-fr/p/bieres/la-chouffe-blonde-dardenne-2l-keg\"\n",
    "\n",
    "def extract_beer_infos(url):   \n",
    "    r = requests.get(url)\n",
    "    html = r.content\n",
    "    soup = BeautifulSoup(html)\n",
    "    \n",
    "    beer_infos = {}\n",
    "    \n",
    "    beer_infos[\"nom\"] = soup.find_all('div', {'class': \"product-detail-info-title\"})[0].find(\"h1\").text\n",
    "    beer_infos[\"Style\"] = soup.find_all('a', {'href' : \"/fr-fr/c/biereblonde\"})[0].text\n",
    "    beer_infos[\"Contenu\"] = int(soup.find_all('dd', {'class' : \"js-beer-volume\"})[0].text.split(\" \")[0])*100\n",
    "    beer_infos[\"Degré d’alcool\"] = float(soup.find_all('dd',{'class' : \"small-6 medium-9 columns\"})[1].text[:-1].replace(\",\",\".\"))\n",
    "    beer_infos[\"Origine\"] = soup.find_all('dd', {'class' : \"js-beer-country\"})[0].text[2:].replace(\" \",\"\")\n",
    "    beer_infos[\"Brasseur\"] = soup.find_all('a', {'href' : \"/fr-fr/p/brasseurs/brasserie-dachouffe\"})[0].text\n",
    "\n",
    "    return beer_infos\n",
    "\n",
    "print(extract_beer_infos(url))"
   ]
  },
  {
   "cell_type": "code",
   "execution_count": 83,
   "metadata": {},
   "outputs": [
    {
     "data": {
      "text/plain": [
       "[{'Nom': 'La Cristal IPA du Mont Blanc',\n",
       "  'Style': 'IPA',\n",
       "  'Contenu': 33,\n",
       "  'Degré d’alcool': 4.7,\n",
       "  'Origine': 'France',\n",
       "  'Brasseur': 'Brasserie de La Cristal IPA du Mont Blanc'},\n",
       " {'Nom': 'Ninkasi Pale Ale',\n",
       "  'Style': 'Bière Ambrée',\n",
       "  'Contenu': 33,\n",
       "  'Degré d’alcool': 4.5,\n",
       "  'Origine': 'France',\n",
       "  'Brasseur': 'Brasserie de Ninkasi Pale Ale'},\n",
       " {'Nom': 'Desperados',\n",
       "  'Style': 'Lager',\n",
       "  'Contenu': 33,\n",
       "  'Degré d’alcool': 5.9,\n",
       "  'Origine': 'France',\n",
       "  'Brasseur': 'Brasserie de Desperados'},\n",
       " {'Nom': 'Pietra',\n",
       "  'Style': 'Lager',\n",
       "  'Contenu': 33,\n",
       "  'Degré d’alcool': 6.0,\n",
       "  'Origine': 'France',\n",
       "  'Brasseur': 'Brasserie de Pietra'}]"
      ]
     },
     "execution_count": 83,
     "metadata": {},
     "output_type": "execute_result"
    }
   ],
   "source": [
    "# partie B-2\n",
    "URL_BEERLIST_FRANCE = \"https://www.beerwulf.com/fr-FR/api/search/searchProducts?country=France&container=Bouteille\"\n",
    "\n",
    "def extract_beer_list_infos(url):\n",
    "    response = requests.get(url)\n",
    "    data = response.json()\n",
    "    \n",
    "    beers = []\n",
    "    for elem in data[\"items\"]:\n",
    "        elem_list = {\n",
    "            \"Nom\" : elem[\"title\"],\n",
    "            \"Style\" : elem[\"style\"],\n",
    "            \"Contenu\" : int(elem[\"volume\"]),\n",
    "            \"Degré d’alcool\" : float(elem[\"alcoholPercentage\"]),\n",
    "            'Origine':'France',\n",
    "            \"Brasseur\" : \"Brasserie de \" + elem[\"title\"]\n",
    "        }\n",
    "        beers.append(elem_list)\n",
    "\n",
    "    return beers\n",
    "{'Nom':'Desperados','Style':'Lager','Contenu':33,'Degré d’alcool':5.9,'Origine':'France','Brasseur':'Desperados'},\n",
    "extract_beer_list_infos(URL_BEERLIST_FRANCE)"
   ]
  },
  {
   "cell_type": "code",
   "execution_count": 84,
   "metadata": {},
   "outputs": [],
   "source": [
    "import unittest\n",
    "\n",
    "class Session4Tests(unittest.TestCase):\n",
    "    def test_01_get_prices_from_url_page2(self):\n",
    "        prices = get_prices_from_url(URL_PAGE2)\n",
    "        # We should have found 3 products:\n",
    "        self.assertIsInstance(prices, dict)\n",
    "        self.assertEqual(len(prices), 3)\n",
    "        self.assertIn('Personal', prices)\n",
    "        self.assertIn('Small Business', prices)\n",
    "        self.assertIn('Enterprise', prices)\n",
    "        \n",
    "        personal = prices['Personal']\n",
    "        self.assertIn('price', personal)\n",
    "        self.assertIn('storage', personal)\n",
    "        self.assertIn('databases', personal)\n",
    "        self.assertEqual(personal['price'], '$5')\n",
    "        self.assertEqual(personal['storage'], '1GB')\n",
    "        self.assertEqual(personal['databases'], 1)\n",
    "        \n",
    "    def test_02_get_prices_from_url_page3(self):\n",
    "        prices = get_prices_from_url(URL_PAGE3)\n",
    "        self.assertIsInstance(prices, dict)\n",
    "        self.assertEqual(len(prices), 4)\n",
    "        self.assertEqual(\n",
    "            prices['Privilege'],\n",
    "            {'databases': 100, 'price': '$99', 'storage': '1TB'}\n",
    "        )\n",
    "    \n",
    "    def test_03_extract_beer_list_infos(self):\n",
    "        infos = extract_beer_list_infos(URL_BEERLIST_FRANCE)\n",
    "        self.assertIsInstance(infos, list)\n",
    "        self.assertGreater(len(infos), 1)\n",
    "        # Contenu = int\n",
    "        # Degré d’alcool = float\n",
    "        for beer in infos:\n",
    "            self.assertIsInstance(beer['Nom'], str)\n",
    "            self.assertIsInstance(beer['Style'], str)\n",
    "            self.assertIsInstance(beer['Contenu'], int)\n",
    "            self.assertIsInstance(beer['Degré d’alcool'], float)\n",
    "            self.assertEqual(beer['Origine'], \"France\")\n",
    "            self.assertIsInstance(beer['Brasseur'], str)\n",
    "\n",
    "            \n",
    "def run_tests():\n",
    "    test_suite = unittest.makeSuite(Session4Tests)\n",
    "    runner = unittest.TextTestRunner(verbosity=2)\n",
    "    runner.run(test_suite)"
   ]
  },
  {
   "cell_type": "code",
   "execution_count": 85,
   "metadata": {},
   "outputs": [
    {
     "name": "stderr",
     "output_type": "stream",
     "text": [
      "test_01_get_prices_from_url_page2 (__main__.Session4Tests) ... ok\n",
      "test_02_get_prices_from_url_page3 (__main__.Session4Tests) ... ok\n",
      "test_03_extract_beer_list_infos (__main__.Session4Tests) ... ok\n",
      "\n",
      "----------------------------------------------------------------------\n",
      "Ran 3 tests in 0.538s\n",
      "\n",
      "OK\n"
     ]
    }
   ],
   "source": [
    "if __name__ == '__main__':\n",
    "    run_tests()"
   ]
  }
 ],
 "metadata": {
  "kernelspec": {
   "display_name": "Python 3 (ipykernel)",
   "language": "python",
   "name": "python3"
  },
  "language_info": {
   "codemirror_mode": {
    "name": "ipython",
    "version": 3
   },
   "file_extension": ".py",
   "mimetype": "text/x-python",
   "name": "python",
   "nbconvert_exporter": "python",
   "pygments_lexer": "ipython3",
   "version": "3.9.12"
  }
 },
 "nbformat": 4,
 "nbformat_minor": 4
}
